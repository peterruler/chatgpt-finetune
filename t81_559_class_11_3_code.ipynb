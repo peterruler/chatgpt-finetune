{
  "cells": [
    {
      "cell_type": "markdown",
      "metadata": {
        "id": "kxu1Gfhx1pHg"
      },
      "source": [
        "<a href=\"https://colab.research.google.com/github/jeffheaton/app_generative_ai/blob/main/t81_559_class_11_3_code.ipynb\" target=\"_parent\"><img src=\"https://colab.research.google.com/assets/colab-badge.svg\" alt=\"Open In Colab\"/></a>"
      ]
    },
    {
      "cell_type": "markdown",
      "metadata": {
        "id": "ZbNbAV281pHh"
      },
      "source": [
        "# T81-559: Applications of Generative Artificial Intelligence\n",
        "**Module 11: Finetuning**\n",
        "* Instructor: [Jeff Heaton](https://sites.wustl.edu/jeffheaton/), McKelvey School of Engineering, [Washington University in St. Louis](https://engineering.wustl.edu/Programs/Pages/default.aspx)\n",
        "* For more information visit the [class website](https://sites.wustl.edu/jeffheaton/t81-558/)."
      ]
    },
    {
      "cell_type": "markdown",
      "metadata": {
        "id": "HwnvSYEQ1pHi"
      },
      "source": [
        "# Module 11 Material\n",
        "\n",
        "Module 11: Finetuning\n",
        "\n",
        "* Part 11.1: Understanding Finetuning [[Video]](https://www.youtube.com/watch?v=fflySydZABM) [[Notebook]](t81_559_class_11_1_finetune.ipynb)\n",
        "* Part 11.2: Finetuning from the Dashboard [[Video]](https://www.youtube.com/watch?v=RIJj1QLk-V4) [[Notebook]](t81_559_class_11_2_dashboard.ipynb)\n",
        "* **Part 11.3: Finetuning from Code** [[Video]](https://www.youtube.com/watch?v=29tUrxrneOs) [[Notebook]](t81_559_class_11_3_code.ipynb)\n",
        "* Part 11.4: Evaluating your Model [[Video]](https://www.youtube.com/watch?v=MrwFSG4PWUY) [[Notebook]](t81_559_class_11_4_eval.ipynb)\n",
        "* Part 11.5: Finetuning for Text to Image [[Video]](https://www.youtube.com/watch?v=G_FYFSzkB5Y&list=PLjy4p-07OYzulelvJ5KVaT2pDlxivl_BN) [[Notebook]](t81_559_class_11_5_image.ipynb)\n"
      ]
    },
    {
      "cell_type": "markdown",
      "metadata": {
        "id": "XLFov09h18yC"
      },
      "source": [
        "# Google CoLab Instructions\n",
        "\n",
        "The following code ensures that Google CoLab is running and maps Google Drive if needed."
      ]
    },
    {
      "cell_type": "code",
      "execution_count": 1,
      "metadata": {
        "id": "AWGARRT92DrA",
        "colab": {
          "base_uri": "https://localhost:8080/"
        },
        "outputId": "570141fd-6fc1-4a31-d115-200410d51bb2"
      },
      "outputs": [
        {
          "output_type": "stream",
          "name": "stdout",
          "text": [
            "Note: using Google CoLab\n",
            "Requirement already satisfied: langchain in /usr/local/lib/python3.10/dist-packages (0.3.11)\n",
            "Requirement already satisfied: openai in /usr/local/lib/python3.10/dist-packages (0.28.0)\n",
            "Requirement already satisfied: streamlit in /usr/local/lib/python3.10/dist-packages (1.41.1)\n",
            "Requirement already satisfied: PyYAML>=5.3 in /usr/local/lib/python3.10/dist-packages (from langchain) (6.0.2)\n",
            "Requirement already satisfied: SQLAlchemy<3,>=1.4 in /usr/local/lib/python3.10/dist-packages (from langchain) (2.0.36)\n",
            "Requirement already satisfied: aiohttp<4.0.0,>=3.8.3 in /usr/local/lib/python3.10/dist-packages (from langchain) (3.11.10)\n",
            "Requirement already satisfied: async-timeout<5.0.0,>=4.0.0 in /usr/local/lib/python3.10/dist-packages (from langchain) (4.0.3)\n",
            "Requirement already satisfied: langchain-core<0.4.0,>=0.3.24 in /usr/local/lib/python3.10/dist-packages (from langchain) (0.3.24)\n",
            "Requirement already satisfied: langchain-text-splitters<0.4.0,>=0.3.0 in /usr/local/lib/python3.10/dist-packages (from langchain) (0.3.2)\n",
            "Requirement already satisfied: langsmith<0.3,>=0.1.17 in /usr/local/lib/python3.10/dist-packages (from langchain) (0.2.2)\n",
            "Requirement already satisfied: numpy<2,>=1.22.4 in /usr/local/lib/python3.10/dist-packages (from langchain) (1.26.4)\n",
            "Requirement already satisfied: pydantic<3.0.0,>=2.7.4 in /usr/local/lib/python3.10/dist-packages (from langchain) (2.10.3)\n",
            "Requirement already satisfied: requests<3,>=2 in /usr/local/lib/python3.10/dist-packages (from langchain) (2.32.3)\n",
            "Requirement already satisfied: tenacity!=8.4.0,<10,>=8.1.0 in /usr/local/lib/python3.10/dist-packages (from langchain) (9.0.0)\n",
            "Requirement already satisfied: tqdm in /usr/local/lib/python3.10/dist-packages (from openai) (4.66.6)\n",
            "Requirement already satisfied: altair<6,>=4.0 in /usr/local/lib/python3.10/dist-packages (from streamlit) (5.5.0)\n",
            "Requirement already satisfied: blinker<2,>=1.0.0 in /usr/local/lib/python3.10/dist-packages (from streamlit) (1.9.0)\n",
            "Requirement already satisfied: cachetools<6,>=4.0 in /usr/local/lib/python3.10/dist-packages (from streamlit) (5.5.0)\n",
            "Requirement already satisfied: click<9,>=7.0 in /usr/local/lib/python3.10/dist-packages (from streamlit) (8.1.7)\n",
            "Requirement already satisfied: packaging<25,>=20 in /usr/local/lib/python3.10/dist-packages (from streamlit) (24.2)\n",
            "Requirement already satisfied: pandas<3,>=1.4.0 in /usr/local/lib/python3.10/dist-packages (from streamlit) (2.2.2)\n",
            "Requirement already satisfied: pillow<12,>=7.1.0 in /usr/local/lib/python3.10/dist-packages (from streamlit) (11.0.0)\n",
            "Requirement already satisfied: protobuf<6,>=3.20 in /usr/local/lib/python3.10/dist-packages (from streamlit) (4.25.5)\n",
            "Requirement already satisfied: pyarrow>=7.0 in /usr/local/lib/python3.10/dist-packages (from streamlit) (17.0.0)\n",
            "Requirement already satisfied: rich<14,>=10.14.0 in /usr/local/lib/python3.10/dist-packages (from streamlit) (13.9.4)\n",
            "Requirement already satisfied: toml<2,>=0.10.1 in /usr/local/lib/python3.10/dist-packages (from streamlit) (0.10.2)\n",
            "Requirement already satisfied: typing-extensions<5,>=4.3.0 in /usr/local/lib/python3.10/dist-packages (from streamlit) (4.12.2)\n",
            "Requirement already satisfied: watchdog<7,>=2.1.5 in /usr/local/lib/python3.10/dist-packages (from streamlit) (6.0.0)\n",
            "Requirement already satisfied: gitpython!=3.1.19,<4,>=3.0.7 in /usr/local/lib/python3.10/dist-packages (from streamlit) (3.1.43)\n",
            "Requirement already satisfied: pydeck<1,>=0.8.0b4 in /usr/local/lib/python3.10/dist-packages (from streamlit) (0.9.1)\n",
            "Requirement already satisfied: tornado<7,>=6.0.3 in /usr/local/lib/python3.10/dist-packages (from streamlit) (6.3.3)\n",
            "Requirement already satisfied: aiohappyeyeballs>=2.3.0 in /usr/local/lib/python3.10/dist-packages (from aiohttp<4.0.0,>=3.8.3->langchain) (2.4.4)\n",
            "Requirement already satisfied: aiosignal>=1.1.2 in /usr/local/lib/python3.10/dist-packages (from aiohttp<4.0.0,>=3.8.3->langchain) (1.3.1)\n",
            "Requirement already satisfied: attrs>=17.3.0 in /usr/local/lib/python3.10/dist-packages (from aiohttp<4.0.0,>=3.8.3->langchain) (24.2.0)\n",
            "Requirement already satisfied: frozenlist>=1.1.1 in /usr/local/lib/python3.10/dist-packages (from aiohttp<4.0.0,>=3.8.3->langchain) (1.5.0)\n",
            "Requirement already satisfied: multidict<7.0,>=4.5 in /usr/local/lib/python3.10/dist-packages (from aiohttp<4.0.0,>=3.8.3->langchain) (6.1.0)\n",
            "Requirement already satisfied: propcache>=0.2.0 in /usr/local/lib/python3.10/dist-packages (from aiohttp<4.0.0,>=3.8.3->langchain) (0.2.1)\n",
            "Requirement already satisfied: yarl<2.0,>=1.17.0 in /usr/local/lib/python3.10/dist-packages (from aiohttp<4.0.0,>=3.8.3->langchain) (1.18.3)\n",
            "Requirement already satisfied: jinja2 in /usr/local/lib/python3.10/dist-packages (from altair<6,>=4.0->streamlit) (3.1.4)\n",
            "Requirement already satisfied: jsonschema>=3.0 in /usr/local/lib/python3.10/dist-packages (from altair<6,>=4.0->streamlit) (4.23.0)\n",
            "Requirement already satisfied: narwhals>=1.14.2 in /usr/local/lib/python3.10/dist-packages (from altair<6,>=4.0->streamlit) (1.17.0)\n",
            "Requirement already satisfied: gitdb<5,>=4.0.1 in /usr/local/lib/python3.10/dist-packages (from gitpython!=3.1.19,<4,>=3.0.7->streamlit) (4.0.11)\n",
            "Requirement already satisfied: jsonpatch<2.0,>=1.33 in /usr/local/lib/python3.10/dist-packages (from langchain-core<0.4.0,>=0.3.24->langchain) (1.33)\n",
            "Requirement already satisfied: httpx<1,>=0.23.0 in /usr/local/lib/python3.10/dist-packages (from langsmith<0.3,>=0.1.17->langchain) (0.28.1)\n",
            "Requirement already satisfied: orjson<4.0.0,>=3.9.14 in /usr/local/lib/python3.10/dist-packages (from langsmith<0.3,>=0.1.17->langchain) (3.10.12)\n",
            "Requirement already satisfied: requests-toolbelt<2.0.0,>=1.0.0 in /usr/local/lib/python3.10/dist-packages (from langsmith<0.3,>=0.1.17->langchain) (1.0.0)\n",
            "Requirement already satisfied: python-dateutil>=2.8.2 in /usr/local/lib/python3.10/dist-packages (from pandas<3,>=1.4.0->streamlit) (2.8.2)\n",
            "Requirement already satisfied: pytz>=2020.1 in /usr/local/lib/python3.10/dist-packages (from pandas<3,>=1.4.0->streamlit) (2024.2)\n",
            "Requirement already satisfied: tzdata>=2022.7 in /usr/local/lib/python3.10/dist-packages (from pandas<3,>=1.4.0->streamlit) (2024.2)\n",
            "Requirement already satisfied: annotated-types>=0.6.0 in /usr/local/lib/python3.10/dist-packages (from pydantic<3.0.0,>=2.7.4->langchain) (0.7.0)\n",
            "Requirement already satisfied: pydantic-core==2.27.1 in /usr/local/lib/python3.10/dist-packages (from pydantic<3.0.0,>=2.7.4->langchain) (2.27.1)\n",
            "Requirement already satisfied: charset-normalizer<4,>=2 in /usr/local/lib/python3.10/dist-packages (from requests<3,>=2->langchain) (3.4.0)\n",
            "Requirement already satisfied: idna<4,>=2.5 in /usr/local/lib/python3.10/dist-packages (from requests<3,>=2->langchain) (3.10)\n",
            "Requirement already satisfied: urllib3<3,>=1.21.1 in /usr/local/lib/python3.10/dist-packages (from requests<3,>=2->langchain) (2.2.3)\n",
            "Requirement already satisfied: certifi>=2017.4.17 in /usr/local/lib/python3.10/dist-packages (from requests<3,>=2->langchain) (2024.8.30)\n",
            "Requirement already satisfied: markdown-it-py>=2.2.0 in /usr/local/lib/python3.10/dist-packages (from rich<14,>=10.14.0->streamlit) (3.0.0)\n",
            "Requirement already satisfied: pygments<3.0.0,>=2.13.0 in /usr/local/lib/python3.10/dist-packages (from rich<14,>=10.14.0->streamlit) (2.18.0)\n",
            "Requirement already satisfied: greenlet!=0.4.17 in /usr/local/lib/python3.10/dist-packages (from SQLAlchemy<3,>=1.4->langchain) (3.1.1)\n",
            "Requirement already satisfied: smmap<6,>=3.0.1 in /usr/local/lib/python3.10/dist-packages (from gitdb<5,>=4.0.1->gitpython!=3.1.19,<4,>=3.0.7->streamlit) (5.0.1)\n",
            "Requirement already satisfied: anyio in /usr/local/lib/python3.10/dist-packages (from httpx<1,>=0.23.0->langsmith<0.3,>=0.1.17->langchain) (3.7.1)\n",
            "Requirement already satisfied: httpcore==1.* in /usr/local/lib/python3.10/dist-packages (from httpx<1,>=0.23.0->langsmith<0.3,>=0.1.17->langchain) (1.0.7)\n",
            "Requirement already satisfied: h11<0.15,>=0.13 in /usr/local/lib/python3.10/dist-packages (from httpcore==1.*->httpx<1,>=0.23.0->langsmith<0.3,>=0.1.17->langchain) (0.14.0)\n",
            "Requirement already satisfied: MarkupSafe>=2.0 in /usr/local/lib/python3.10/dist-packages (from jinja2->altair<6,>=4.0->streamlit) (3.0.2)\n",
            "Requirement already satisfied: jsonpointer>=1.9 in /usr/local/lib/python3.10/dist-packages (from jsonpatch<2.0,>=1.33->langchain-core<0.4.0,>=0.3.24->langchain) (3.0.0)\n",
            "Requirement already satisfied: jsonschema-specifications>=2023.03.6 in /usr/local/lib/python3.10/dist-packages (from jsonschema>=3.0->altair<6,>=4.0->streamlit) (2024.10.1)\n",
            "Requirement already satisfied: referencing>=0.28.4 in /usr/local/lib/python3.10/dist-packages (from jsonschema>=3.0->altair<6,>=4.0->streamlit) (0.35.1)\n",
            "Requirement already satisfied: rpds-py>=0.7.1 in /usr/local/lib/python3.10/dist-packages (from jsonschema>=3.0->altair<6,>=4.0->streamlit) (0.22.3)\n",
            "Requirement already satisfied: mdurl~=0.1 in /usr/local/lib/python3.10/dist-packages (from markdown-it-py>=2.2.0->rich<14,>=10.14.0->streamlit) (0.1.2)\n",
            "Requirement already satisfied: six>=1.5 in /usr/local/lib/python3.10/dist-packages (from python-dateutil>=2.8.2->pandas<3,>=1.4.0->streamlit) (1.17.0)\n",
            "Requirement already satisfied: sniffio>=1.1 in /usr/local/lib/python3.10/dist-packages (from anyio->httpx<1,>=0.23.0->langsmith<0.3,>=0.1.17->langchain) (1.3.1)\n",
            "Requirement already satisfied: exceptiongroup in /usr/local/lib/python3.10/dist-packages (from anyio->httpx<1,>=0.23.0->langsmith<0.3,>=0.1.17->langchain) (1.2.2)\n",
            "Requirement already satisfied: streamlit in /usr/local/lib/python3.10/dist-packages (1.41.1)\n",
            "Requirement already satisfied: openai in /usr/local/lib/python3.10/dist-packages (0.28.0)\n",
            "Collecting openai\n",
            "  Using cached openai-1.57.4-py3-none-any.whl.metadata (24 kB)\n",
            "Requirement already satisfied: altair<6,>=4.0 in /usr/local/lib/python3.10/dist-packages (from streamlit) (5.5.0)\n",
            "Requirement already satisfied: blinker<2,>=1.0.0 in /usr/local/lib/python3.10/dist-packages (from streamlit) (1.9.0)\n",
            "Requirement already satisfied: cachetools<6,>=4.0 in /usr/local/lib/python3.10/dist-packages (from streamlit) (5.5.0)\n",
            "Requirement already satisfied: click<9,>=7.0 in /usr/local/lib/python3.10/dist-packages (from streamlit) (8.1.7)\n",
            "Requirement already satisfied: numpy<3,>=1.23 in /usr/local/lib/python3.10/dist-packages (from streamlit) (1.26.4)\n",
            "Requirement already satisfied: packaging<25,>=20 in /usr/local/lib/python3.10/dist-packages (from streamlit) (24.2)\n",
            "Requirement already satisfied: pandas<3,>=1.4.0 in /usr/local/lib/python3.10/dist-packages (from streamlit) (2.2.2)\n",
            "Requirement already satisfied: pillow<12,>=7.1.0 in /usr/local/lib/python3.10/dist-packages (from streamlit) (11.0.0)\n",
            "Requirement already satisfied: protobuf<6,>=3.20 in /usr/local/lib/python3.10/dist-packages (from streamlit) (4.25.5)\n",
            "Requirement already satisfied: pyarrow>=7.0 in /usr/local/lib/python3.10/dist-packages (from streamlit) (17.0.0)\n",
            "Requirement already satisfied: requests<3,>=2.27 in /usr/local/lib/python3.10/dist-packages (from streamlit) (2.32.3)\n",
            "Requirement already satisfied: rich<14,>=10.14.0 in /usr/local/lib/python3.10/dist-packages (from streamlit) (13.9.4)\n",
            "Requirement already satisfied: tenacity<10,>=8.1.0 in /usr/local/lib/python3.10/dist-packages (from streamlit) (9.0.0)\n",
            "Requirement already satisfied: toml<2,>=0.10.1 in /usr/local/lib/python3.10/dist-packages (from streamlit) (0.10.2)\n",
            "Requirement already satisfied: typing-extensions<5,>=4.3.0 in /usr/local/lib/python3.10/dist-packages (from streamlit) (4.12.2)\n",
            "Requirement already satisfied: watchdog<7,>=2.1.5 in /usr/local/lib/python3.10/dist-packages (from streamlit) (6.0.0)\n",
            "Requirement already satisfied: gitpython!=3.1.19,<4,>=3.0.7 in /usr/local/lib/python3.10/dist-packages (from streamlit) (3.1.43)\n",
            "Requirement already satisfied: pydeck<1,>=0.8.0b4 in /usr/local/lib/python3.10/dist-packages (from streamlit) (0.9.1)\n",
            "Requirement already satisfied: tornado<7,>=6.0.3 in /usr/local/lib/python3.10/dist-packages (from streamlit) (6.3.3)\n",
            "Requirement already satisfied: anyio<5,>=3.5.0 in /usr/local/lib/python3.10/dist-packages (from openai) (3.7.1)\n",
            "Requirement already satisfied: distro<2,>=1.7.0 in /usr/local/lib/python3.10/dist-packages (from openai) (1.9.0)\n",
            "Requirement already satisfied: httpx<1,>=0.23.0 in /usr/local/lib/python3.10/dist-packages (from openai) (0.28.1)\n",
            "Requirement already satisfied: jiter<1,>=0.4.0 in /usr/local/lib/python3.10/dist-packages (from openai) (0.8.2)\n",
            "Requirement already satisfied: pydantic<3,>=1.9.0 in /usr/local/lib/python3.10/dist-packages (from openai) (2.10.3)\n",
            "Requirement already satisfied: sniffio in /usr/local/lib/python3.10/dist-packages (from openai) (1.3.1)\n",
            "Requirement already satisfied: tqdm>4 in /usr/local/lib/python3.10/dist-packages (from openai) (4.66.6)\n",
            "Requirement already satisfied: jinja2 in /usr/local/lib/python3.10/dist-packages (from altair<6,>=4.0->streamlit) (3.1.4)\n",
            "Requirement already satisfied: jsonschema>=3.0 in /usr/local/lib/python3.10/dist-packages (from altair<6,>=4.0->streamlit) (4.23.0)\n",
            "Requirement already satisfied: narwhals>=1.14.2 in /usr/local/lib/python3.10/dist-packages (from altair<6,>=4.0->streamlit) (1.17.0)\n",
            "Requirement already satisfied: idna>=2.8 in /usr/local/lib/python3.10/dist-packages (from anyio<5,>=3.5.0->openai) (3.10)\n",
            "Requirement already satisfied: exceptiongroup in /usr/local/lib/python3.10/dist-packages (from anyio<5,>=3.5.0->openai) (1.2.2)\n",
            "Requirement already satisfied: gitdb<5,>=4.0.1 in /usr/local/lib/python3.10/dist-packages (from gitpython!=3.1.19,<4,>=3.0.7->streamlit) (4.0.11)\n",
            "Requirement already satisfied: certifi in /usr/local/lib/python3.10/dist-packages (from httpx<1,>=0.23.0->openai) (2024.8.30)\n",
            "Requirement already satisfied: httpcore==1.* in /usr/local/lib/python3.10/dist-packages (from httpx<1,>=0.23.0->openai) (1.0.7)\n",
            "Requirement already satisfied: h11<0.15,>=0.13 in /usr/local/lib/python3.10/dist-packages (from httpcore==1.*->httpx<1,>=0.23.0->openai) (0.14.0)\n",
            "Requirement already satisfied: python-dateutil>=2.8.2 in /usr/local/lib/python3.10/dist-packages (from pandas<3,>=1.4.0->streamlit) (2.8.2)\n",
            "Requirement already satisfied: pytz>=2020.1 in /usr/local/lib/python3.10/dist-packages (from pandas<3,>=1.4.0->streamlit) (2024.2)\n",
            "Requirement already satisfied: tzdata>=2022.7 in /usr/local/lib/python3.10/dist-packages (from pandas<3,>=1.4.0->streamlit) (2024.2)\n",
            "Requirement already satisfied: annotated-types>=0.6.0 in /usr/local/lib/python3.10/dist-packages (from pydantic<3,>=1.9.0->openai) (0.7.0)\n",
            "Requirement already satisfied: pydantic-core==2.27.1 in /usr/local/lib/python3.10/dist-packages (from pydantic<3,>=1.9.0->openai) (2.27.1)\n",
            "Requirement already satisfied: charset-normalizer<4,>=2 in /usr/local/lib/python3.10/dist-packages (from requests<3,>=2.27->streamlit) (3.4.0)\n",
            "Requirement already satisfied: urllib3<3,>=1.21.1 in /usr/local/lib/python3.10/dist-packages (from requests<3,>=2.27->streamlit) (2.2.3)\n",
            "Requirement already satisfied: markdown-it-py>=2.2.0 in /usr/local/lib/python3.10/dist-packages (from rich<14,>=10.14.0->streamlit) (3.0.0)\n",
            "Requirement already satisfied: pygments<3.0.0,>=2.13.0 in /usr/local/lib/python3.10/dist-packages (from rich<14,>=10.14.0->streamlit) (2.18.0)\n",
            "Requirement already satisfied: smmap<6,>=3.0.1 in /usr/local/lib/python3.10/dist-packages (from gitdb<5,>=4.0.1->gitpython!=3.1.19,<4,>=3.0.7->streamlit) (5.0.1)\n",
            "Requirement already satisfied: MarkupSafe>=2.0 in /usr/local/lib/python3.10/dist-packages (from jinja2->altair<6,>=4.0->streamlit) (3.0.2)\n",
            "Requirement already satisfied: attrs>=22.2.0 in /usr/local/lib/python3.10/dist-packages (from jsonschema>=3.0->altair<6,>=4.0->streamlit) (24.2.0)\n",
            "Requirement already satisfied: jsonschema-specifications>=2023.03.6 in /usr/local/lib/python3.10/dist-packages (from jsonschema>=3.0->altair<6,>=4.0->streamlit) (2024.10.1)\n",
            "Requirement already satisfied: referencing>=0.28.4 in /usr/local/lib/python3.10/dist-packages (from jsonschema>=3.0->altair<6,>=4.0->streamlit) (0.35.1)\n",
            "Requirement already satisfied: rpds-py>=0.7.1 in /usr/local/lib/python3.10/dist-packages (from jsonschema>=3.0->altair<6,>=4.0->streamlit) (0.22.3)\n",
            "Requirement already satisfied: mdurl~=0.1 in /usr/local/lib/python3.10/dist-packages (from markdown-it-py>=2.2.0->rich<14,>=10.14.0->streamlit) (0.1.2)\n",
            "Requirement already satisfied: six>=1.5 in /usr/local/lib/python3.10/dist-packages (from python-dateutil>=2.8.2->pandas<3,>=1.4.0->streamlit) (1.17.0)\n",
            "Using cached openai-1.57.4-py3-none-any.whl (390 kB)\n",
            "Installing collected packages: openai\n",
            "  Attempting uninstall: openai\n",
            "    Found existing installation: openai 0.28.0\n",
            "    Uninstalling openai-0.28.0:\n",
            "      Successfully uninstalled openai-0.28.0\n",
            "Successfully installed openai-1.57.4\n",
            "Collecting openai==0.28.0\n",
            "  Using cached openai-0.28.0-py3-none-any.whl.metadata (13 kB)\n",
            "Requirement already satisfied: requests>=2.20 in /usr/local/lib/python3.10/dist-packages (from openai==0.28.0) (2.32.3)\n",
            "Requirement already satisfied: tqdm in /usr/local/lib/python3.10/dist-packages (from openai==0.28.0) (4.66.6)\n",
            "Requirement already satisfied: aiohttp in /usr/local/lib/python3.10/dist-packages (from openai==0.28.0) (3.11.10)\n",
            "Requirement already satisfied: charset-normalizer<4,>=2 in /usr/local/lib/python3.10/dist-packages (from requests>=2.20->openai==0.28.0) (3.4.0)\n",
            "Requirement already satisfied: idna<4,>=2.5 in /usr/local/lib/python3.10/dist-packages (from requests>=2.20->openai==0.28.0) (3.10)\n",
            "Requirement already satisfied: urllib3<3,>=1.21.1 in /usr/local/lib/python3.10/dist-packages (from requests>=2.20->openai==0.28.0) (2.2.3)\n",
            "Requirement already satisfied: certifi>=2017.4.17 in /usr/local/lib/python3.10/dist-packages (from requests>=2.20->openai==0.28.0) (2024.8.30)\n",
            "Requirement already satisfied: aiohappyeyeballs>=2.3.0 in /usr/local/lib/python3.10/dist-packages (from aiohttp->openai==0.28.0) (2.4.4)\n",
            "Requirement already satisfied: aiosignal>=1.1.2 in /usr/local/lib/python3.10/dist-packages (from aiohttp->openai==0.28.0) (1.3.1)\n",
            "Requirement already satisfied: async-timeout<6.0,>=4.0 in /usr/local/lib/python3.10/dist-packages (from aiohttp->openai==0.28.0) (4.0.3)\n",
            "Requirement already satisfied: attrs>=17.3.0 in /usr/local/lib/python3.10/dist-packages (from aiohttp->openai==0.28.0) (24.2.0)\n",
            "Requirement already satisfied: frozenlist>=1.1.1 in /usr/local/lib/python3.10/dist-packages (from aiohttp->openai==0.28.0) (1.5.0)\n",
            "Requirement already satisfied: multidict<7.0,>=4.5 in /usr/local/lib/python3.10/dist-packages (from aiohttp->openai==0.28.0) (6.1.0)\n",
            "Requirement already satisfied: propcache>=0.2.0 in /usr/local/lib/python3.10/dist-packages (from aiohttp->openai==0.28.0) (0.2.1)\n",
            "Requirement already satisfied: yarl<2.0,>=1.17.0 in /usr/local/lib/python3.10/dist-packages (from aiohttp->openai==0.28.0) (1.18.3)\n",
            "Requirement already satisfied: typing-extensions>=4.1.0 in /usr/local/lib/python3.10/dist-packages (from multidict<7.0,>=4.5->aiohttp->openai==0.28.0) (4.12.2)\n",
            "Using cached openai-0.28.0-py3-none-any.whl (76 kB)\n",
            "Installing collected packages: openai\n",
            "  Attempting uninstall: openai\n",
            "    Found existing installation: openai 1.57.4\n",
            "    Uninstalling openai-1.57.4:\n",
            "      Successfully uninstalled openai-1.57.4\n",
            "Successfully installed openai-0.28.0\n"
          ]
        }
      ],
      "source": [
        "import os\n",
        "\n",
        "try:\n",
        "    from google.colab import drive, userdata\n",
        "    COLAB = True\n",
        "    print(\"Note: using Google CoLab\")\n",
        "except:\n",
        "    print(\"Note: not using Google CoLab\")\n",
        "    COLAB = False\n",
        "\n",
        "# OpenAI Secrets\n",
        "if COLAB:\n",
        "    os.environ[\"OPENAI_API_KEY\"] = userdata.get('OPENAI_API_KEY')\n",
        "\n",
        "# Install needed libraries in CoLab\n",
        "if COLAB:\n",
        "    !pip install langchain openai streamlit\n",
        "    !pip install --upgrade streamlit openai\n",
        "    !pip install openai==0.28.0"
      ]
    },
    {
      "cell_type": "markdown",
      "metadata": {
        "id": "v2MPPX0c1pHi"
      },
      "source": [
        "# Part 11.3: Finetuning from Code\n",
        "\n",
        "Just like the last part we will utilize the following training data.\n",
        "\n",
        "* [sarcastic.jsonl](https://data.heatonresearch.com/data/t81-559/finetune/sarcastic.jsonl)\n",
        "* [sarcastic_val.jsonl](https://data.heatonresearch.com/data/t81-559/finetune/sarcastic_val.jsonl)\n",
        "\n",
        "\n",
        "\n"
      ]
    },
    {
      "cell_type": "code",
      "execution_count": 2,
      "metadata": {
        "id": "OawqUP3Jr85z",
        "colab": {
          "base_uri": "https://localhost:8080/"
        },
        "outputId": "6f7fe815-6ec4-40d6-f11f-bd2665d2f3e9"
      },
      "outputs": [
        {
          "output_type": "stream",
          "name": "stdout",
          "text": [
            "--2024-12-14 13:13:06--  https://data.heatonresearch.com/data/t81-559/finetune/sarcastic.jsonl\n",
            "Resolving data.heatonresearch.com (data.heatonresearch.com)... 18.160.46.108, 18.160.46.15, 18.160.46.40, ...\n",
            "Connecting to data.heatonresearch.com (data.heatonresearch.com)|18.160.46.108|:443... connected.\n",
            "HTTP request sent, awaiting response... 200 OK\n",
            "Length: 7202 (7.0K) [binary/octet-stream]\n",
            "Saving to: ‘sarcastic.jsonl.6’\n",
            "\n",
            "\rsarcastic.jsonl.6     0%[                    ]       0  --.-KB/s               \rsarcastic.jsonl.6   100%[===================>]   7.03K  --.-KB/s    in 0s      \n",
            "\n",
            "2024-12-14 13:13:06 (75.9 MB/s) - ‘sarcastic.jsonl.6’ saved [7202/7202]\n",
            "\n",
            "--2024-12-14 13:13:06--  https://data.heatonresearch.com/data/t81-559/finetune/sarcastic_val.jsonl\n",
            "Resolving data.heatonresearch.com (data.heatonresearch.com)... 18.160.46.108, 18.160.46.15, 18.160.46.40, ...\n",
            "Connecting to data.heatonresearch.com (data.heatonresearch.com)|18.160.46.108|:443... connected.\n",
            "HTTP request sent, awaiting response... 200 OK\n",
            "Length: 2575 (2.5K) [binary/octet-stream]\n",
            "Saving to: ‘sarcastic_val.jsonl.6’\n",
            "\n",
            "sarcastic_val.jsonl 100%[===================>]   2.51K  --.-KB/s    in 0s      \n",
            "\n",
            "2024-12-14 13:13:06 (1.06 GB/s) - ‘sarcastic_val.jsonl.6’ saved [2575/2575]\n",
            "\n"
          ]
        }
      ],
      "source": [
        "import openai\n",
        "\n",
        "!wget https://data.heatonresearch.com/data/t81-559/finetune/sarcastic.jsonl\n",
        "!wget https://data.heatonresearch.com/data/t81-559/finetune/sarcastic_val.jsonl\n",
        "'''\n",
        "client = OpenAI()\n",
        "\n",
        "obj = client.files.create(\n",
        "  file=open(\"sarcastic.jsonl\", \"rb\"),\n",
        "  purpose=\"fine-tune\"\n",
        ")\n",
        "'''\n",
        "# Upload the file\n",
        "obj = openai.File.create(\n",
        "    file=open(\"sarcastic.jsonl\", \"rb\"),  # Open the file in binary mode\n",
        "    purpose=\"fine-tune\"\n",
        ")\n"
      ]
    },
    {
      "cell_type": "code",
      "execution_count": 3,
      "metadata": {
        "id": "7TZeEIbtyXxw",
        "colab": {
          "base_uri": "https://localhost:8080/",
          "height": 35
        },
        "outputId": "d552b9bb-0bf7-473f-c676-2431e3b141bd"
      },
      "outputs": [
        {
          "output_type": "execute_result",
          "data": {
            "text/plain": [
              "'file-4iuLwUcic8TqaB5D5oJDNK'"
            ],
            "application/vnd.google.colaboratory.intrinsic+json": {
              "type": "string"
            }
          },
          "metadata": {},
          "execution_count": 3
        }
      ],
      "source": [
        "obj.id"
      ]
    },
    {
      "cell_type": "code",
      "execution_count": 11,
      "metadata": {
        "id": "kQEFmRLzHCQH",
        "colab": {
          "base_uri": "https://localhost:8080/"
        },
        "outputId": "1b0c411d-a811-42d1-d398-12f1df52fa02"
      },
      "outputs": [
        {
          "output_type": "stream",
          "name": "stdout",
          "text": [
            "Fine-Tuning Job Status: processed\n"
          ]
        }
      ],
      "source": [
        "print(\"Fine-Tuning Job Status:\", obj.status)"
      ]
    },
    {
      "cell_type": "markdown",
      "metadata": {
        "id": "slJEgf6XiFDw"
      },
      "source": [
        "### Run and Monitor Finetuning"
      ]
    },
    {
      "cell_type": "code",
      "execution_count": 19,
      "metadata": {
        "id": "MSgK0cLbfDZA",
        "colab": {
          "base_uri": "https://localhost:8080/"
        },
        "outputId": "ebd709ef-b267-469f-cc7e-d220d15cea7e"
      },
      "outputs": [
        {
          "output_type": "stream",
          "name": "stdout",
          "text": [
            "Fine-Tuning Job ID: ftjob-eb5tUUfIqNnI7VTK6YsCVFMd\n",
            "Fine-Tuning Job Status: validating_files\n",
            "1734182815: Validating training file: file-4iuLwUcic8TqaB5D5oJDNK\n",
            "1734182815: Created fine-tuning job: ftjob-eb5tUUfIqNnI7VTK6YsCVFMd\n",
            "Waiting for updates...\n",
            "Fine-Tuning Job Status: running\n",
            "1734182819: Fine-tuning job started\n",
            "1734182819: Files validated, moving job to queued state\n",
            "Waiting for updates...\n",
            "Fine-Tuning Job Status: running\n",
            "Waiting for updates...\n",
            "Fine-Tuning Job Status: running\n",
            "Waiting for updates...\n",
            "Fine-Tuning Job Status: running\n",
            "Waiting for updates...\n",
            "Fine-Tuning Job Status: running\n",
            "Waiting for updates...\n",
            "Fine-Tuning Job Status: running\n",
            "Waiting for updates...\n",
            "Fine-Tuning Job Status: running\n",
            "1734182951: Step 1/84: training loss=3.57\n",
            "Waiting for updates...\n",
            "Fine-Tuning Job Status: running\n",
            "1734182953: Step 3/84: training loss=3.05\n",
            "1734182956: Step 6/84: training loss=2.44\n",
            "1734182956: Step 5/84: training loss=2.62\n",
            "1734182956: Step 4/84: training loss=3.66\n",
            "1734182958: Step 8/84: training loss=1.24\n",
            "1734182958: Step 7/84: training loss=1.41\n",
            "1734182960: Step 11/84: training loss=0.90\n",
            "1734182960: Step 10/84: training loss=1.57\n",
            "1734182960: Step 9/84: training loss=2.19\n",
            "1734182963: Step 13/84: training loss=0.53\n",
            "1734182963: Step 12/84: training loss=1.83\n",
            "1734182965: Step 16/84: training loss=1.12\n",
            "1734182965: Step 15/84: training loss=1.21\n",
            "1734182965: Step 14/84: training loss=0.63\n",
            "1734182967: Step 18/84: training loss=1.46\n",
            "1734182967: Step 17/84: training loss=2.15\n",
            "1734182970: Step 21/84: training loss=0.54\n",
            "1734182970: Step 20/84: training loss=1.74\n",
            "1734182970: Step 19/84: training loss=1.49\n",
            "1734182972: Step 22/84: training loss=1.71\n",
            "Waiting for updates...\n",
            "Fine-Tuning Job Status: running\n",
            "1734182972: Step 24/84: training loss=1.60\n",
            "1734182972: Step 23/84: training loss=2.22\n",
            "1734182974: Step 26/84: training loss=1.08\n",
            "1734182974: Step 25/84: training loss=1.48\n",
            "1734182977: Step 27/84: training loss=1.13\n",
            "1734182991: Step 29/84: training loss=0.66\n",
            "1734182991: Step 28/84: training loss=1.20\n",
            "1734182993: Step 32/84: training loss=0.70\n",
            "1734182993: Step 31/84: training loss=0.76\n",
            "1734182993: Step 30/84: training loss=0.85\n",
            "1734182995: Step 35/84: training loss=0.92\n",
            "1734182995: Step 34/84: training loss=1.17\n",
            "1734182995: Step 33/84: training loss=0.62\n",
            "1734182998: Step 36/84: training loss=0.73\n",
            "Waiting for updates...\n",
            "Fine-Tuning Job Status: running\n",
            "1734182998: Step 37/84: training loss=0.30\n",
            "1734183000: Step 40/84: training loss=0.50\n",
            "1734183000: Step 39/84: training loss=0.77\n",
            "1734183000: Step 38/84: training loss=0.80\n",
            "1734183002: Step 42/84: training loss=0.45\n",
            "1734183002: Step 41/84: training loss=0.58\n",
            "1734183005: Step 45/84: training loss=0.59\n",
            "1734183005: Step 44/84: training loss=0.41\n",
            "1734183005: Step 43/84: training loss=0.56\n",
            "1734183007: Step 48/84: training loss=0.67\n",
            "1734183007: Step 47/84: training loss=0.30\n",
            "1734183007: Step 46/84: training loss=0.11\n",
            "1734183010: Step 50/84: training loss=0.42\n",
            "1734183010: Step 49/84: training loss=0.60\n",
            "1734183012: Step 51/84: training loss=0.64\n",
            "Waiting for updates...\n",
            "Fine-Tuning Job Status: running\n",
            "1734183012: Step 53/84: training loss=0.73\n",
            "1734183012: Step 52/84: training loss=0.66\n",
            "1734183014: Step 55/84: training loss=0.25\n",
            "1734183014: Step 54/84: training loss=0.49\n",
            "1734183030: Step 56/84: training loss=0.28\n",
            "1734183032: Step 59/84: training loss=0.25\n",
            "1734183032: Step 58/84: training loss=0.23\n",
            "1734183032: Step 57/84: training loss=0.25\n",
            "1734183035: Step 61/84: training loss=0.39\n",
            "1734183035: Step 60/84: training loss=0.11\n",
            "1734183037: Step 62/84: training loss=0.27\n",
            "Waiting for updates...\n",
            "Fine-Tuning Job Status: running\n",
            "1734183037: Step 64/84: training loss=0.08\n",
            "1734183037: Step 63/84: training loss=0.15\n",
            "1734183040: Step 67/84: training loss=0.24\n",
            "1734183040: Step 66/84: training loss=0.32\n",
            "1734183040: Step 65/84: training loss=0.06\n",
            "1734183042: Step 69/84: training loss=0.30\n",
            "1734183042: Step 68/84: training loss=0.25\n",
            "1734183044: Step 70/84: training loss=0.43\n",
            "1734183045: Step 72/84: training loss=0.13\n",
            "1734183045: Step 71/84: training loss=0.32\n",
            "1734183047: Step 74/84: training loss=0.11\n",
            "1734183047: Step 73/84: training loss=0.46\n",
            "1734183049: Step 77/84: training loss=0.27\n",
            "1734183049: Step 76/84: training loss=0.28\n",
            "1734183049: Step 75/84: training loss=0.21\n",
            "1734183051: Step 78/84: training loss=0.17\n",
            "Waiting for updates...\n",
            "Fine-Tuning Job Status: running\n",
            "1734183051: Step 79/84: training loss=0.21\n",
            "1734183054: Step 82/84: training loss=0.29\n",
            "1734183054: Step 81/84: training loss=0.28\n",
            "1734183054: Step 80/84: training loss=0.07\n",
            "1734183056: Step 83/84: training loss=0.03\n",
            "1734183069: Step 84/84: training loss=0.16\n",
            "Waiting for updates...\n",
            "Fine-Tuning Job Status: succeeded\n",
            "1734183081: Checkpoint created at step 56\n",
            "1734183081: Checkpoint created at step 28\n",
            "1734183082: New fine-tuned model created\n",
            "1734183087: The job has successfully completed\n",
            "Done!\n"
          ]
        }
      ],
      "source": [
        "import time\n",
        "import openai\n",
        "'''\n",
        "# Start the fine-tuning job\n",
        "train = client.fine_tuning.jobs.create(\n",
        "    training_file=obj.id,\n",
        "    model=\"gpt-4o-mini-2024-07-18\"\n",
        ")\n",
        "'''\n",
        "train = openai.FineTuningJob.create(\n",
        "    training_file=obj.id,\n",
        "    model=\"gpt-4o-mini-2024-07-18\"\n",
        ")\n",
        "\n",
        "fine_tune_job_id = train[\"id\"]\n",
        "print(\"Fine-Tuning Job ID:\", fine_tune_job_id)\n",
        "\n",
        "\n",
        "done = False\n",
        "\n",
        "# Initialize a set to store processed event IDs\n",
        "processed_event_ids = set()\n",
        "\n",
        "while not done:\n",
        "    '''\n",
        "    # Retrieve the latest status of the fine-tuning job\n",
        "    status = client.fine_tuning.jobs.retrieve(train.id)\n",
        "    print(f\"Job status: {status.status}\")\n",
        "    '''\n",
        "    # Step 3: Retrieve the fine-tuning job status\n",
        "    status_response = openai.FineTuningJob.retrieve(id=fine_tune_job_id)\n",
        "    status = status_response[\"status\"]\n",
        "    print(\"Fine-Tuning Job Status:\", status)\n",
        "    '''\n",
        "    # Fetch all events related to the fine-tuning job\n",
        "    events = client.fine_tuning.jobs.list_events(fine_tuning_job_id=train.id)\n",
        "    '''\n",
        "    # Retrieve the events for the fine-tuning job\n",
        "    events_response = openai.FineTuningJob.list_events(id=fine_tune_job_id)\n",
        "\n",
        "    # Extract the list of events\n",
        "    events = events_response[\"data\"]\n",
        "\n",
        "\n",
        "    # Collect new events that haven't been processed yet\n",
        "    new_events = []\n",
        "    '''\n",
        "    for event in events:\n",
        "        if event.id not in processed_event_ids:\n",
        "            new_events.append(event)\n",
        "            processed_event_ids.add(event.id)\n",
        "    '''\n",
        "    for event in events:\n",
        "        if event[\"id\"] not in processed_event_ids:  # Use event[\"id\"] instead of event.id\n",
        "            new_events.append(event)\n",
        "            processed_event_ids.add(event[\"id\"])  # Add the ID to the processed set\n",
        "    # Sort the new events in chronological order\n",
        "    new_events.sort(key=lambda e: e.created_at)\n",
        "\n",
        "    # Display the new events in order\n",
        "    for event in new_events:\n",
        "        print(f\"{event.created_at}: {event.message}\")\n",
        "\n",
        "    if status == \"succeeded\":\n",
        "        done = True\n",
        "        print(\"Done!\")\n",
        "    elif status == \"failed\":\n",
        "        done = True\n",
        "        print(\"Failed!\")\n",
        "    else:\n",
        "        print(\"Waiting for updates...\")\n",
        "        time.sleep(20)  # Sleep for 20 seconds\n"
      ]
    },
    {
      "cell_type": "code",
      "execution_count": 21,
      "metadata": {
        "id": "aRVAzHzYjT8T",
        "colab": {
          "base_uri": "https://localhost:8080/"
        },
        "outputId": "41cf94fa-4d28-4422-cc1e-fe02b2da5b5a"
      },
      "outputs": [
        {
          "output_type": "stream",
          "name": "stdout",
          "text": [
            "Trained model ID: ft:gpt-4o-mini-2024-07-18:personal::AeMWnZUP\n"
          ]
        }
      ],
      "source": [
        "# Retrieve the fine-tuning job details\n",
        "fine_tuning_job = openai.FineTuningJob.retrieve(id=fine_tune_job_id)\n",
        "\n",
        "# Access the fine-tuned model ID\n",
        "model_id = fine_tuning_job.get(\"fine_tuned_model\")\n",
        "\n",
        "if model_id:\n",
        "    print(f\"Trained model ID: {model_id}\")\n",
        "else:\n",
        "    print(\"The fine-tuning job has not completed or no model ID is available.\")\n"
      ]
    },
    {
      "cell_type": "markdown",
      "metadata": {
        "id": "xqdT0CyTiq2x"
      },
      "source": [
        "### Test the Finetuned Model"
      ]
    },
    {
      "cell_type": "code",
      "execution_count": 23,
      "metadata": {
        "id": "l5Eeuf3JiT6O",
        "colab": {
          "base_uri": "https://localhost:8080/"
        },
        "outputId": "a7ad64cb-78eb-4ff0-a560-3b63fa45caee"
      },
      "outputs": [
        {
          "output_type": "stream",
          "name": "stdout",
          "text": [
            "{\n",
            "  \"role\": \"assistant\",\n",
            "  \"content\": \"Washington, D.C., as if everyone doesn\\u2019t know that already.\",\n",
            "  \"refusal\": null\n",
            "}\n"
          ]
        }
      ],
      "source": [
        "import openai\n",
        "# Call OpenAI API to get the response\n",
        "completion = openai.ChatCompletion.create(\n",
        "  model=model_id,\n",
        "  messages=[\n",
        "    {\"role\": \"system\", \"content\": \"Marv is a factual chatbot that is also sarcastic.\"},\n",
        "    {\"role\": \"user\", \"content\": \"What is the capital of the USA?\"}\n",
        "  ]\n",
        ")\n",
        "\n",
        "print(completion.choices[0].message)"
      ]
    },
    {
      "cell_type": "markdown",
      "metadata": {
        "id": "ukvYwN20ilos"
      },
      "source": [
        "### Delete Old Models"
      ]
    },
    {
      "cell_type": "code",
      "execution_count": null,
      "metadata": {
        "id": "gPTpmdYbiOxp"
      },
      "outputs": [],
      "source": [
        "#client.models.delete(\"ft:gpt-4o-mini-2024-07-18:personal:sarcastic:A9yCtR0b\")"
      ]
    }
  ],
  "metadata": {
    "anaconda-cloud": {},
    "colab": {
      "provenance": []
    },
    "kernelspec": {
      "display_name": "Python 3 (ipykernel)",
      "language": "python",
      "name": "python3"
    },
    "language_info": {
      "codemirror_mode": {
        "name": "ipython",
        "version": 3
      },
      "file_extension": ".py",
      "mimetype": "text/x-python",
      "name": "python",
      "nbconvert_exporter": "python",
      "pygments_lexer": "ipython3",
      "version": "3.12.4"
    }
  },
  "nbformat": 4,
  "nbformat_minor": 0
}